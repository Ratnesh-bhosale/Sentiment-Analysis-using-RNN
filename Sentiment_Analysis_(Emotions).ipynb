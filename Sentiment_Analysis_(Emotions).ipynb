{
  "nbformat": 4,
  "nbformat_minor": 0,
  "metadata": {
    "colab": {
      "name": "Sentiment Analysis (Emotions).ipynb",
      "provenance": [],
      "authorship_tag": "ABX9TyPigZs1d8DNsTFOAlcoZfPX",
      "include_colab_link": true
    },
    "kernelspec": {
      "name": "python3",
      "display_name": "Python 3"
    },
    "language_info": {
      "name": "python"
    },
    "accelerator": "GPU"
  },
  "cells": [
    {
      "cell_type": "markdown",
      "metadata": {
        "id": "view-in-github",
        "colab_type": "text"
      },
      "source": [
        "<a href=\"https://colab.research.google.com/github/Ratnesh-bhosale/Sentiment-Analysis-using-RNN/blob/main/Sentiment_Analysis_(Emotions).ipynb\" target=\"_parent\"><img src=\"https://colab.research.google.com/assets/colab-badge.svg\" alt=\"Open In Colab\"/></a>"
      ]
    },
    {
      "cell_type": "code",
      "metadata": {
        "id": "lE2bkOmMLCmF",
        "colab": {
          "base_uri": "https://localhost:8080/"
        },
        "outputId": "8300891f-9c74-429a-befb-2adbfbc32e83"
      },
      "source": [
        "import numpy as np\n",
        "import pandas as pd\n",
        "import matplotlib.pyplot as plt\n",
        "%matplotlib inline\n",
        "import seaborn as sns\n",
        "from collections import Counter\n",
        "# Text processing library\n",
        "import nltk\n",
        "nltk.download('stopwords')\n",
        "from nltk.corpus import stopwords"
      ],
      "execution_count": null,
      "outputs": [
        {
          "output_type": "stream",
          "text": [
            "[nltk_data] Downloading package stopwords to /root/nltk_data...\n",
            "[nltk_data]   Package stopwords is already up-to-date!\n"
          ],
          "name": "stdout"
        }
      ]
    },
    {
      "cell_type": "code",
      "metadata": {
        "id": "Kbim1Ji0L2vE"
      },
      "source": [
        "# Deep Learning library\n",
        "import tensorflow as tf\n",
        "from tensorflow.keras.preprocessing.text import Tokenizer\n",
        "from tensorflow.keras.preprocessing.sequence import pad_sequences\n",
        "from tensorflow.keras.models import Sequential\n",
        "from tensorflow.keras.layers import Embedding, LSTM, Dense\n",
        "from tensorflow.keras.layers import Conv1D, Dropout, MaxPooling1D\n",
        "\n",
        "from tensorflow.keras import backend as K"
      ],
      "execution_count": null,
      "outputs": []
    },
    {
      "cell_type": "code",
      "metadata": {
        "id": "PK_LxGuqwl-Q"
      },
      "source": [
        "train_data = pd.read_csv(\"train.txt\", header = None)\n",
        "validation_data = pd.read_csv(\"val.txt\", header = None)\n",
        "test_data = pd.read_csv(\"test.txt\", header = None)"
      ],
      "execution_count": null,
      "outputs": []
    },
    {
      "cell_type": "code",
      "metadata": {
        "id": "6Mjj2a33yfX1",
        "colab": {
          "base_uri": "https://localhost:8080/",
          "height": 203
        },
        "outputId": "ee1fcb12-5da9-4bbb-f36f-d059f9058150"
      },
      "source": [
        "train_data.head()"
      ],
      "execution_count": null,
      "outputs": [
        {
          "output_type": "execute_result",
          "data": {
            "text/html": [
              "<div>\n",
              "<style scoped>\n",
              "    .dataframe tbody tr th:only-of-type {\n",
              "        vertical-align: middle;\n",
              "    }\n",
              "\n",
              "    .dataframe tbody tr th {\n",
              "        vertical-align: top;\n",
              "    }\n",
              "\n",
              "    .dataframe thead th {\n",
              "        text-align: right;\n",
              "    }\n",
              "</style>\n",
              "<table border=\"1\" class=\"dataframe\">\n",
              "  <thead>\n",
              "    <tr style=\"text-align: right;\">\n",
              "      <th></th>\n",
              "      <th>0</th>\n",
              "    </tr>\n",
              "  </thead>\n",
              "  <tbody>\n",
              "    <tr>\n",
              "      <th>0</th>\n",
              "      <td>i didnt feel humiliated;sadness</td>\n",
              "    </tr>\n",
              "    <tr>\n",
              "      <th>1</th>\n",
              "      <td>i can go from feeling so hopeless to so damned...</td>\n",
              "    </tr>\n",
              "    <tr>\n",
              "      <th>2</th>\n",
              "      <td>im grabbing a minute to post i feel greedy wro...</td>\n",
              "    </tr>\n",
              "    <tr>\n",
              "      <th>3</th>\n",
              "      <td>i am ever feeling nostalgic about the fireplac...</td>\n",
              "    </tr>\n",
              "    <tr>\n",
              "      <th>4</th>\n",
              "      <td>i am feeling grouchy;anger</td>\n",
              "    </tr>\n",
              "  </tbody>\n",
              "</table>\n",
              "</div>"
            ],
            "text/plain": [
              "                                                   0\n",
              "0                    i didnt feel humiliated;sadness\n",
              "1  i can go from feeling so hopeless to so damned...\n",
              "2  im grabbing a minute to post i feel greedy wro...\n",
              "3  i am ever feeling nostalgic about the fireplac...\n",
              "4                         i am feeling grouchy;anger"
            ]
          },
          "metadata": {
            "tags": []
          },
          "execution_count": 7
        }
      ]
    },
    {
      "cell_type": "code",
      "metadata": {
        "colab": {
          "base_uri": "https://localhost:8080/",
          "height": 203
        },
        "id": "6hNF16ibyjNX",
        "outputId": "d9f5c408-0c5a-4931-9983-5fc75d94b829"
      },
      "source": [
        "validation_data.head()"
      ],
      "execution_count": null,
      "outputs": [
        {
          "output_type": "execute_result",
          "data": {
            "text/html": [
              "<div>\n",
              "<style scoped>\n",
              "    .dataframe tbody tr th:only-of-type {\n",
              "        vertical-align: middle;\n",
              "    }\n",
              "\n",
              "    .dataframe tbody tr th {\n",
              "        vertical-align: top;\n",
              "    }\n",
              "\n",
              "    .dataframe thead th {\n",
              "        text-align: right;\n",
              "    }\n",
              "</style>\n",
              "<table border=\"1\" class=\"dataframe\">\n",
              "  <thead>\n",
              "    <tr style=\"text-align: right;\">\n",
              "      <th></th>\n",
              "      <th>0</th>\n",
              "    </tr>\n",
              "  </thead>\n",
              "  <tbody>\n",
              "    <tr>\n",
              "      <th>0</th>\n",
              "      <td>im feeling quite sad and sorry for myself but ...</td>\n",
              "    </tr>\n",
              "    <tr>\n",
              "      <th>1</th>\n",
              "      <td>i feel like i am still looking at a blank canv...</td>\n",
              "    </tr>\n",
              "    <tr>\n",
              "      <th>2</th>\n",
              "      <td>i feel like a faithful servant;love</td>\n",
              "    </tr>\n",
              "    <tr>\n",
              "      <th>3</th>\n",
              "      <td>i am just feeling cranky and blue;anger</td>\n",
              "    </tr>\n",
              "    <tr>\n",
              "      <th>4</th>\n",
              "      <td>i can have for a treat or if i am feeling fest...</td>\n",
              "    </tr>\n",
              "  </tbody>\n",
              "</table>\n",
              "</div>"
            ],
            "text/plain": [
              "                                                   0\n",
              "0  im feeling quite sad and sorry for myself but ...\n",
              "1  i feel like i am still looking at a blank canv...\n",
              "2                i feel like a faithful servant;love\n",
              "3            i am just feeling cranky and blue;anger\n",
              "4  i can have for a treat or if i am feeling fest..."
            ]
          },
          "metadata": {
            "tags": []
          },
          "execution_count": 8
        }
      ]
    },
    {
      "cell_type": "code",
      "metadata": {
        "id": "w1LLwo9py7sE",
        "colab": {
          "base_uri": "https://localhost:8080/",
          "height": 203
        },
        "outputId": "1308276c-e4b0-40d6-a5df-0df0becaae90"
      },
      "source": [
        "test_data.head()"
      ],
      "execution_count": null,
      "outputs": [
        {
          "output_type": "execute_result",
          "data": {
            "text/html": [
              "<div>\n",
              "<style scoped>\n",
              "    .dataframe tbody tr th:only-of-type {\n",
              "        vertical-align: middle;\n",
              "    }\n",
              "\n",
              "    .dataframe tbody tr th {\n",
              "        vertical-align: top;\n",
              "    }\n",
              "\n",
              "    .dataframe thead th {\n",
              "        text-align: right;\n",
              "    }\n",
              "</style>\n",
              "<table border=\"1\" class=\"dataframe\">\n",
              "  <thead>\n",
              "    <tr style=\"text-align: right;\">\n",
              "      <th></th>\n",
              "      <th>0</th>\n",
              "    </tr>\n",
              "  </thead>\n",
              "  <tbody>\n",
              "    <tr>\n",
              "      <th>0</th>\n",
              "      <td>im feeling rather rotten so im not very ambiti...</td>\n",
              "    </tr>\n",
              "    <tr>\n",
              "      <th>1</th>\n",
              "      <td>im updating my blog because i feel shitty;sadness</td>\n",
              "    </tr>\n",
              "    <tr>\n",
              "      <th>2</th>\n",
              "      <td>i never make her separate from me because i do...</td>\n",
              "    </tr>\n",
              "    <tr>\n",
              "      <th>3</th>\n",
              "      <td>i left with my bouquet of red and yellow tulip...</td>\n",
              "    </tr>\n",
              "    <tr>\n",
              "      <th>4</th>\n",
              "      <td>i was feeling a little vain when i did this on...</td>\n",
              "    </tr>\n",
              "  </tbody>\n",
              "</table>\n",
              "</div>"
            ],
            "text/plain": [
              "                                                   0\n",
              "0  im feeling rather rotten so im not very ambiti...\n",
              "1  im updating my blog because i feel shitty;sadness\n",
              "2  i never make her separate from me because i do...\n",
              "3  i left with my bouquet of red and yellow tulip...\n",
              "4  i was feeling a little vain when i did this on..."
            ]
          },
          "metadata": {
            "tags": []
          },
          "execution_count": 9
        }
      ]
    },
    {
      "cell_type": "code",
      "metadata": {
        "colab": {
          "base_uri": "https://localhost:8080/"
        },
        "id": "KjHKbi_4Midm",
        "outputId": "a549f879-c119-4749-d7fb-be7d1a8c7e52"
      },
      "source": [
        "train_data.shape, validation_data.shape, test_data.shape"
      ],
      "execution_count": null,
      "outputs": [
        {
          "output_type": "execute_result",
          "data": {
            "text/plain": [
              "((16000, 1), (2000, 1), (2000, 1))"
            ]
          },
          "metadata": {
            "tags": []
          },
          "execution_count": 10
        }
      ]
    },
    {
      "cell_type": "code",
      "metadata": {
        "id": "nhk5GriSMlIz"
      },
      "source": [
        "# Rename dataset\n",
        "train_data.rename(columns = {0: \"description\"}, inplace = True)\n",
        "validation_data.rename(columns = {0: \"description\"}, inplace = True)\n",
        "test_data.rename(columns = {0: \"description\"}, inplace = True)"
      ],
      "execution_count": null,
      "outputs": []
    },
    {
      "cell_type": "code",
      "metadata": {
        "colab": {
          "base_uri": "https://localhost:8080/",
          "height": 417
        },
        "id": "16fh1YFZNJr_",
        "outputId": "33bad5ac-8976-49c8-e170-cdee30d947c6"
      },
      "source": [
        "train_data"
      ],
      "execution_count": null,
      "outputs": [
        {
          "output_type": "execute_result",
          "data": {
            "text/html": [
              "<div>\n",
              "<style scoped>\n",
              "    .dataframe tbody tr th:only-of-type {\n",
              "        vertical-align: middle;\n",
              "    }\n",
              "\n",
              "    .dataframe tbody tr th {\n",
              "        vertical-align: top;\n",
              "    }\n",
              "\n",
              "    .dataframe thead th {\n",
              "        text-align: right;\n",
              "    }\n",
              "</style>\n",
              "<table border=\"1\" class=\"dataframe\">\n",
              "  <thead>\n",
              "    <tr style=\"text-align: right;\">\n",
              "      <th></th>\n",
              "      <th>description</th>\n",
              "    </tr>\n",
              "  </thead>\n",
              "  <tbody>\n",
              "    <tr>\n",
              "      <th>0</th>\n",
              "      <td>i didnt feel humiliated;sadness</td>\n",
              "    </tr>\n",
              "    <tr>\n",
              "      <th>1</th>\n",
              "      <td>i can go from feeling so hopeless to so damned...</td>\n",
              "    </tr>\n",
              "    <tr>\n",
              "      <th>2</th>\n",
              "      <td>im grabbing a minute to post i feel greedy wro...</td>\n",
              "    </tr>\n",
              "    <tr>\n",
              "      <th>3</th>\n",
              "      <td>i am ever feeling nostalgic about the fireplac...</td>\n",
              "    </tr>\n",
              "    <tr>\n",
              "      <th>4</th>\n",
              "      <td>i am feeling grouchy;anger</td>\n",
              "    </tr>\n",
              "    <tr>\n",
              "      <th>...</th>\n",
              "      <td>...</td>\n",
              "    </tr>\n",
              "    <tr>\n",
              "      <th>15995</th>\n",
              "      <td>i just had a very brief time in the beanbag an...</td>\n",
              "    </tr>\n",
              "    <tr>\n",
              "      <th>15996</th>\n",
              "      <td>i am now turning and i feel pathetic that i am...</td>\n",
              "    </tr>\n",
              "    <tr>\n",
              "      <th>15997</th>\n",
              "      <td>i feel strong and good overall;joy</td>\n",
              "    </tr>\n",
              "    <tr>\n",
              "      <th>15998</th>\n",
              "      <td>i feel like this was such a rude comment and i...</td>\n",
              "    </tr>\n",
              "    <tr>\n",
              "      <th>15999</th>\n",
              "      <td>i know a lot but i feel so stupid because i ca...</td>\n",
              "    </tr>\n",
              "  </tbody>\n",
              "</table>\n",
              "<p>16000 rows × 1 columns</p>\n",
              "</div>"
            ],
            "text/plain": [
              "                                             description\n",
              "0                        i didnt feel humiliated;sadness\n",
              "1      i can go from feeling so hopeless to so damned...\n",
              "2      im grabbing a minute to post i feel greedy wro...\n",
              "3      i am ever feeling nostalgic about the fireplac...\n",
              "4                             i am feeling grouchy;anger\n",
              "...                                                  ...\n",
              "15995  i just had a very brief time in the beanbag an...\n",
              "15996  i am now turning and i feel pathetic that i am...\n",
              "15997                 i feel strong and good overall;joy\n",
              "15998  i feel like this was such a rude comment and i...\n",
              "15999  i know a lot but i feel so stupid because i ca...\n",
              "\n",
              "[16000 rows x 1 columns]"
            ]
          },
          "metadata": {
            "tags": []
          },
          "execution_count": 12
        }
      ]
    },
    {
      "cell_type": "code",
      "metadata": {
        "id": "-80z6C0ENNsB"
      },
      "source": [
        "# We can see here emotion is attached with description. we'll seperate it.\n",
        "train_data[[\"text\", \"emotion\"]] = train_data[\"description\"].str.split(\";\", expand = True)\n",
        "train_data = train_data.drop(\"description\", axis = 1)\n",
        "\n",
        "test_data[[\"text\", \"emotion\"]] = test_data[\"description\"].str.split(\";\", expand = True)\n",
        "test_data = test_data.drop(\"description\", axis = 1)\n",
        "\n",
        "validation_data[[\"text\", \"emotion\"]] = validation_data[\"description\"].str.split(\";\", expand = True)\n",
        "validation_data = validation_data.drop(\"description\", axis = 1)"
      ],
      "execution_count": null,
      "outputs": []
    },
    {
      "cell_type": "code",
      "metadata": {
        "colab": {
          "base_uri": "https://localhost:8080/",
          "height": 203
        },
        "id": "mvQPT4-PN58p",
        "outputId": "8e8413d6-1d82-4a96-cc80-b626ac7c782e"
      },
      "source": [
        "train_data.head()"
      ],
      "execution_count": null,
      "outputs": [
        {
          "output_type": "execute_result",
          "data": {
            "text/html": [
              "<div>\n",
              "<style scoped>\n",
              "    .dataframe tbody tr th:only-of-type {\n",
              "        vertical-align: middle;\n",
              "    }\n",
              "\n",
              "    .dataframe tbody tr th {\n",
              "        vertical-align: top;\n",
              "    }\n",
              "\n",
              "    .dataframe thead th {\n",
              "        text-align: right;\n",
              "    }\n",
              "</style>\n",
              "<table border=\"1\" class=\"dataframe\">\n",
              "  <thead>\n",
              "    <tr style=\"text-align: right;\">\n",
              "      <th></th>\n",
              "      <th>text</th>\n",
              "      <th>emotion</th>\n",
              "    </tr>\n",
              "  </thead>\n",
              "  <tbody>\n",
              "    <tr>\n",
              "      <th>0</th>\n",
              "      <td>i didnt feel humiliated</td>\n",
              "      <td>sadness</td>\n",
              "    </tr>\n",
              "    <tr>\n",
              "      <th>1</th>\n",
              "      <td>i can go from feeling so hopeless to so damned...</td>\n",
              "      <td>sadness</td>\n",
              "    </tr>\n",
              "    <tr>\n",
              "      <th>2</th>\n",
              "      <td>im grabbing a minute to post i feel greedy wrong</td>\n",
              "      <td>anger</td>\n",
              "    </tr>\n",
              "    <tr>\n",
              "      <th>3</th>\n",
              "      <td>i am ever feeling nostalgic about the fireplac...</td>\n",
              "      <td>love</td>\n",
              "    </tr>\n",
              "    <tr>\n",
              "      <th>4</th>\n",
              "      <td>i am feeling grouchy</td>\n",
              "      <td>anger</td>\n",
              "    </tr>\n",
              "  </tbody>\n",
              "</table>\n",
              "</div>"
            ],
            "text/plain": [
              "                                                text  emotion\n",
              "0                            i didnt feel humiliated  sadness\n",
              "1  i can go from feeling so hopeless to so damned...  sadness\n",
              "2   im grabbing a minute to post i feel greedy wrong    anger\n",
              "3  i am ever feeling nostalgic about the fireplac...     love\n",
              "4                               i am feeling grouchy    anger"
            ]
          },
          "metadata": {
            "tags": []
          },
          "execution_count": 14
        }
      ]
    },
    {
      "cell_type": "code",
      "metadata": {
        "colab": {
          "base_uri": "https://localhost:8080/"
        },
        "id": "QtVSM-QCN9W0",
        "outputId": "c85c63f7-7a25-41d5-eb60-71a1a50732bb"
      },
      "source": [
        "print(\"Unique emotions in training set: \", train_data.emotion.unique())\n",
        "print(\"Unique emotions in validation set: \", validation_data.emotion.unique())\n",
        "print(\"Unique emotions in testing set: \", test_data.emotion.unique())"
      ],
      "execution_count": null,
      "outputs": [
        {
          "output_type": "stream",
          "text": [
            "Unique emotions in training set:  ['sadness' 'anger' 'love' 'surprise' 'fear' 'joy']\n",
            "Unique emotions in validation set:  ['sadness' 'love' 'anger' 'joy' 'fear' 'surprise']\n",
            "Unique emotions in testing set:  ['sadness' 'joy' 'fear' 'anger' 'love' 'surprise']\n"
          ],
          "name": "stdout"
        }
      ]
    },
    {
      "cell_type": "code",
      "metadata": {
        "colab": {
          "base_uri": "https://localhost:8080/"
        },
        "id": "kJWwzxKQOGSu",
        "outputId": "9b1a6e69-5de5-4720-f609-d9920fca78bd"
      },
      "source": [
        "train_data.isnull().sum(),test_data.isnull().sum(),validation_data.isnull().sum()"
      ],
      "execution_count": null,
      "outputs": [
        {
          "output_type": "execute_result",
          "data": {
            "text/plain": [
              "(text       0\n",
              " emotion    0\n",
              " dtype: int64, text       0\n",
              " emotion    0\n",
              " dtype: int64, text       0\n",
              " emotion    0\n",
              " dtype: int64)"
            ]
          },
          "metadata": {
            "tags": []
          },
          "execution_count": 16
        }
      ]
    },
    {
      "cell_type": "code",
      "metadata": {
        "colab": {
          "base_uri": "https://localhost:8080/",
          "height": 281
        },
        "id": "YKDqCT3gOQFc",
        "outputId": "a126fcf8-cea4-4cd1-9b1f-b5bafe3c91c7"
      },
      "source": [
        "plt.figure(figsize = (6, 4))\n",
        "plt.bar((train_data.groupby(\"emotion\").size()).index, train_data.groupby(\"emotion\").size())\n",
        "plt.title(\"Emotion types in training data\")\n",
        "plt.show()"
      ],
      "execution_count": null,
      "outputs": [
        {
          "output_type": "display_data",
          "data": {
            "image/png": "[encoded data removed]",
            "text/plain": [
              "<Figure size 432x288 with 1 Axes>"
            ]
          },
          "metadata": {
            "tags": [],
            "needs_background": "light"
          }
        }
      ]
    },
    {
      "cell_type": "code",
      "metadata": {
        "colab": {
          "base_uri": "https://localhost:8080/",
          "height": 281
        },
        "id": "7w_zj5TpO3lw",
        "outputId": "88f18c8c-3f7d-4309-cc59-df754e8546cf"
      },
      "source": [
        "plt.figure(figsize = (6, 4))\n",
        "plt.bar((test_data.groupby(\"emotion\").size()).index, test_data.groupby(\"emotion\").size())\n",
        "plt.title(\"Emotion types in test data\")\n",
        "plt.show()"
      ],
      "execution_count": null,
      "outputs": [
        {
          "output_type": "display_data",
          "data": {
            "image/png": "[encoded data removed]",
            "text/plain": [
              "<Figure size 432x288 with 1 Axes>"
            ]
          },
          "metadata": {
            "tags": [],
            "needs_background": "light"
          }
        }
      ]
    },
    {
      "cell_type": "code",
      "metadata": {
        "colab": {
          "base_uri": "https://localhost:8080/",
          "height": 281
        },
        "id": "GSi5tPyHPtmf",
        "outputId": "a7f799a2-deb4-40fc-c6a0-ea5bc9a5d9f2"
      },
      "source": [
        "plt.figure(figsize = (6, 4))\n",
        "plt.bar((validation_data.groupby(\"emotion\").size()).index, validation_data.groupby(\"emotion\").size())\n",
        "plt.title(\"Emotion types in validation data\")\n",
        "plt.show()"
      ],
      "execution_count": null,
      "outputs": [
        {
          "output_type": "display_data",
          "data": {
            "image/png": "[encoded data removed]",
            "text/plain": [
              "<Figure size 432x288 with 1 Axes>"
            ]
          },
          "metadata": {
            "tags": [],
            "needs_background": "light"
          }
        }
      ]
    },
    {
      "cell_type": "code",
      "metadata": {
        "id": "bcax_vJgP3KC"
      },
      "source": [
        "emotions_encoded = {\"anger\": 0, \"fear\": 1, \"joy\": 2, \"love\": 3, \"sadness\": 4, \"surprise\": 5} # dictionary to encode emotions"
      ],
      "execution_count": null,
      "outputs": []
    },
    {
      "cell_type": "code",
      "metadata": {
        "id": "4MSH2ZW0QJSS"
      },
      "source": [
        "train_data.replace(emotions_encoded, inplace = True)\n",
        "test_data.replace(emotions_encoded, inplace = True)\n",
        "validation_data.replace(emotions_encoded, inplace = True)"
      ],
      "execution_count": null,
      "outputs": []
    },
    {
      "cell_type": "code",
      "metadata": {
        "colab": {
          "base_uri": "https://localhost:8080/",
          "height": 417
        },
        "id": "SFbMx1ygQU2g",
        "outputId": "dc5e50fe-3d5b-4b83-e874-1ae90287c02b"
      },
      "source": [
        "train_data"
      ],
      "execution_count": null,
      "outputs": [
        {
          "output_type": "execute_result",
          "data": {
            "text/html": [
              "<div>\n",
              "<style scoped>\n",
              "    .dataframe tbody tr th:only-of-type {\n",
              "        vertical-align: middle;\n",
              "    }\n",
              "\n",
              "    .dataframe tbody tr th {\n",
              "        vertical-align: top;\n",
              "    }\n",
              "\n",
              "    .dataframe thead th {\n",
              "        text-align: right;\n",
              "    }\n",
              "</style>\n",
              "<table border=\"1\" class=\"dataframe\">\n",
              "  <thead>\n",
              "    <tr style=\"text-align: right;\">\n",
              "      <th></th>\n",
              "      <th>text</th>\n",
              "      <th>emotion</th>\n",
              "    </tr>\n",
              "  </thead>\n",
              "  <tbody>\n",
              "    <tr>\n",
              "      <th>0</th>\n",
              "      <td>i didnt feel humiliated</td>\n",
              "      <td>4</td>\n",
              "    </tr>\n",
              "    <tr>\n",
              "      <th>1</th>\n",
              "      <td>i can go from feeling so hopeless to so damned...</td>\n",
              "      <td>4</td>\n",
              "    </tr>\n",
              "    <tr>\n",
              "      <th>2</th>\n",
              "      <td>im grabbing a minute to post i feel greedy wrong</td>\n",
              "      <td>0</td>\n",
              "    </tr>\n",
              "    <tr>\n",
              "      <th>3</th>\n",
              "      <td>i am ever feeling nostalgic about the fireplac...</td>\n",
              "      <td>3</td>\n",
              "    </tr>\n",
              "    <tr>\n",
              "      <th>4</th>\n",
              "      <td>i am feeling grouchy</td>\n",
              "      <td>0</td>\n",
              "    </tr>\n",
              "    <tr>\n",
              "      <th>...</th>\n",
              "      <td>...</td>\n",
              "      <td>...</td>\n",
              "    </tr>\n",
              "    <tr>\n",
              "      <th>15995</th>\n",
              "      <td>i just had a very brief time in the beanbag an...</td>\n",
              "      <td>4</td>\n",
              "    </tr>\n",
              "    <tr>\n",
              "      <th>15996</th>\n",
              "      <td>i am now turning and i feel pathetic that i am...</td>\n",
              "      <td>4</td>\n",
              "    </tr>\n",
              "    <tr>\n",
              "      <th>15997</th>\n",
              "      <td>i feel strong and good overall</td>\n",
              "      <td>2</td>\n",
              "    </tr>\n",
              "    <tr>\n",
              "      <th>15998</th>\n",
              "      <td>i feel like this was such a rude comment and i...</td>\n",
              "      <td>0</td>\n",
              "    </tr>\n",
              "    <tr>\n",
              "      <th>15999</th>\n",
              "      <td>i know a lot but i feel so stupid because i ca...</td>\n",
              "      <td>4</td>\n",
              "    </tr>\n",
              "  </tbody>\n",
              "</table>\n",
              "<p>16000 rows × 2 columns</p>\n",
              "</div>"
            ],
            "text/plain": [
              "                                                    text  emotion\n",
              "0                                i didnt feel humiliated        4\n",
              "1      i can go from feeling so hopeless to so damned...        4\n",
              "2       im grabbing a minute to post i feel greedy wrong        0\n",
              "3      i am ever feeling nostalgic about the fireplac...        3\n",
              "4                                   i am feeling grouchy        0\n",
              "...                                                  ...      ...\n",
              "15995  i just had a very brief time in the beanbag an...        4\n",
              "15996  i am now turning and i feel pathetic that i am...        4\n",
              "15997                     i feel strong and good overall        2\n",
              "15998  i feel like this was such a rude comment and i...        0\n",
              "15999  i know a lot but i feel so stupid because i ca...        4\n",
              "\n",
              "[16000 rows x 2 columns]"
            ]
          },
          "metadata": {
            "tags": []
          },
          "execution_count": 22
        }
      ]
    },
    {
      "cell_type": "code",
      "metadata": {
        "colab": {
          "base_uri": "https://localhost:8080/"
        },
        "id": "LKjPPN-DQXP1",
        "outputId": "409b35e9-74c7-4b48-fbaf-cc0bf0d691e1"
      },
      "source": [
        "# explore data\n",
        "for i in range(20):\n",
        "    print(train_data.text[i])"
      ],
      "execution_count": null,
      "outputs": [
        {
          "output_type": "stream",
          "text": [
            "i didnt feel humiliated\n",
            "i can go from feeling so hopeless to so damned hopeful just from being around someone who cares and is awake\n",
            "im grabbing a minute to post i feel greedy wrong\n",
            "i am ever feeling nostalgic about the fireplace i will know that it is still on the property\n",
            "i am feeling grouchy\n",
            "ive been feeling a little burdened lately wasnt sure why that was\n",
            "ive been taking or milligrams or times recommended amount and ive fallen asleep a lot faster but i also feel like so funny\n",
            "i feel as confused about life as a teenager or as jaded as a year old man\n",
            "i have been with petronas for years i feel that petronas has performed well and made a huge profit\n",
            "i feel romantic too\n",
            "i feel like i have to make the suffering i m seeing mean something\n",
            "i do feel that running is a divine experience and that i can expect to have some type of spiritual encounter\n",
            "i think it s the easiest time of year to feel dissatisfied\n",
            "i feel low energy i m just thirsty\n",
            "i have immense sympathy with the general point but as a possible proto writer trying to find time to write in the corners of life and with no sign of an agent let alone a publishing contract this feels a little precious\n",
            "i do not feel reassured anxiety is on each side\n",
            "i didnt really feel that embarrassed\n",
            "i feel pretty pathetic most of the time\n",
            "i started feeling sentimental about dolls i had as a child and so began a collection of vintage barbie dolls from the sixties\n",
            "i now feel compromised and skeptical of the value of every unit of work i put in\n"
          ],
          "name": "stdout"
        }
      ]
    },
    {
      "cell_type": "code",
      "metadata": {
        "id": "qKxOSXyCQgEy"
      },
      "source": [
        "words_list = []\n",
        "for value in train_data.text.str.split(' '):\n",
        "    words_list.extend(value)"
      ],
      "execution_count": null,
      "outputs": []
    },
    {
      "cell_type": "code",
      "metadata": {
        "colab": {
          "base_uri": "https://localhost:8080/"
        },
        "id": "9iRWFUbJRS3E",
        "outputId": "9a3b1607-21fe-4af1-8db5-3a0dbcfde410"
      },
      "source": [
        "len(words_list)"
      ],
      "execution_count": null,
      "outputs": [
        {
          "output_type": "execute_result",
          "data": {
            "text/plain": [
              "306661"
            ]
          },
          "metadata": {
            "tags": []
          },
          "execution_count": 25
        }
      ]
    },
    {
      "cell_type": "code",
      "metadata": {
        "colab": {
          "base_uri": "https://localhost:8080/"
        },
        "id": "YEXWWZ_DRUjm",
        "outputId": "8256553d-621e-4597-b2fd-89cbf65dce78"
      },
      "source": [
        "words_list[:10]"
      ],
      "execution_count": null,
      "outputs": [
        {
          "output_type": "execute_result",
          "data": {
            "text/plain": [
              "['i', 'didnt', 'feel', 'humiliated', 'i', 'can', 'go', 'from', 'feeling', 'so']"
            ]
          },
          "metadata": {
            "tags": []
          },
          "execution_count": 26
        }
      ]
    },
    {
      "cell_type": "code",
      "metadata": {
        "id": "erjOV0j7RXAx"
      },
      "source": [
        "count_words = Counter(words_list) \n",
        "# Counter function counts unique words"
      ],
      "execution_count": null,
      "outputs": []
    },
    {
      "cell_type": "code",
      "metadata": {
        "colab": {
          "base_uri": "https://localhost:8080/"
        },
        "id": "GAk0k2cEReuX",
        "outputId": "547e9f25-8c39-4a8b-9d5c-4102019097b8"
      },
      "source": [
        "len(count_words)"
      ],
      "execution_count": null,
      "outputs": [
        {
          "output_type": "execute_result",
          "data": {
            "text/plain": [
              "15212"
            ]
          },
          "metadata": {
            "tags": []
          },
          "execution_count": 28
        }
      ]
    },
    {
      "cell_type": "code",
      "metadata": {
        "id": "6wy7XYB9RojM"
      },
      "source": [
        "words_items =  count_words.items() # to store frequency of the words"
      ],
      "execution_count": null,
      "outputs": []
    },
    {
      "cell_type": "code",
      "metadata": {
        "id": "nlXM0A8GRtbY"
      },
      "source": [
        "first_words = list(words_items)[:50]"
      ],
      "execution_count": null,
      "outputs": []
    },
    {
      "cell_type": "code",
      "metadata": {
        "colab": {
          "base_uri": "https://localhost:8080/"
        },
        "id": "sdmBrjjgR0Hv",
        "outputId": "915830b2-c535-443b-9dc1-88f1cae01caf"
      },
      "source": [
        "print(first_words)"
      ],
      "execution_count": null,
      "outputs": [
        {
          "output_type": "stream",
          "text": [
            "[('i', 25859), ('didnt', 272), ('feel', 11183), ('humiliated', 50), ('can', 966), ('go', 393), ('from', 689), ('feeling', 5112), ('so', 2527), ('hopeless', 65), ('to', 8972), ('damned', 4), ('hopeful', 59), ('just', 1391), ('being', 681), ('around', 315), ('someone', 251), ('who', 567), ('cares', 16), ('and', 9589), ('is', 2184), ('awake', 21), ('im', 2430), ('grabbing', 5), ('a', 6200), ('minute', 24), ('post', 113), ('greedy', 65), ('wrong', 71), ('am', 2082), ('ever', 221), ('nostalgic', 51), ('about', 1795), ('the', 8370), ('fireplace', 3), ('will', 697), ('know', 853), ('that', 5112), ('it', 3127), ('still', 595), ('on', 1551), ('property', 4), ('grouchy', 27), ('ive', 587), ('been', 853), ('little', 736), ('burdened', 62), ('lately', 98), ('wasnt', 95), ('sure', 232)]\n"
          ],
          "name": "stdout"
        }
      ]
    },
    {
      "cell_type": "code",
      "metadata": {
        "colab": {
          "base_uri": "https://localhost:8080/"
        },
        "id": "oiKicr5MR1iO",
        "outputId": "55ffa368-d86d-4a1c-c2e3-ce8cf74fdaaa"
      },
      "source": [
        "print(count_words.most_common(50))"
      ],
      "execution_count": null,
      "outputs": [
        {
          "output_type": "stream",
          "text": [
            "[('i', 25859), ('feel', 11183), ('and', 9589), ('to', 8972), ('the', 8370), ('a', 6200), ('feeling', 5112), ('that', 5112), ('of', 4990), ('my', 4283), ('in', 3433), ('it', 3127), ('like', 2908), ('so', 2527), ('for', 2431), ('im', 2430), ('me', 2309), ('but', 2255), ('was', 2227), ('have', 2224), ('is', 2184), ('this', 2088), ('am', 2082), ('with', 2015), ('not', 1827), ('about', 1795), ('be', 1778), ('as', 1565), ('on', 1551), ('you', 1471), ('just', 1391), ('at', 1376), ('when', 1367), ('or', 1246), ('all', 1174), ('because', 1157), ('more', 1123), ('do', 1066), ('can', 966), ('really', 942), ('up', 935), ('t', 897), ('are', 896), ('by', 886), ('very', 884), ('know', 853), ('been', 853), ('if', 809), ('out', 808), ('myself', 805)]\n"
          ],
          "name": "stdout"
        }
      ]
    },
    {
      "cell_type": "code",
      "metadata": {
        "id": "BlG265w0R5YX"
      },
      "source": [
        "# loads the stopwords in the English language as they are stored in the NLTK corpus\n",
        "# stopwords - \"and\", \"to\", \"the\", \"a\", \"that\", \"to\", etc\n",
        "stop_words = set(stopwords.words(\"english\"))"
      ],
      "execution_count": null,
      "outputs": []
    },
    {
      "cell_type": "code",
      "metadata": {
        "id": "kynPTAZFSPDq"
      },
      "source": [
        "meaningful_words = [word for word in words_list if word not in stop_words]"
      ],
      "execution_count": null,
      "outputs": []
    },
    {
      "cell_type": "code",
      "metadata": {
        "colab": {
          "base_uri": "https://localhost:8080/"
        },
        "id": "i3nAN0toSRlE",
        "outputId": "f8c2588e-175b-41e3-f216-c550bbee4119"
      },
      "source": [
        "print(meaningful_words[:50])"
      ],
      "execution_count": null,
      "outputs": [
        {
          "output_type": "stream",
          "text": [
            "['didnt', 'feel', 'humiliated', 'go', 'feeling', 'hopeless', 'damned', 'hopeful', 'around', 'someone', 'cares', 'awake', 'im', 'grabbing', 'minute', 'post', 'feel', 'greedy', 'wrong', 'ever', 'feeling', 'nostalgic', 'fireplace', 'know', 'still', 'property', 'feeling', 'grouchy', 'ive', 'feeling', 'little', 'burdened', 'lately', 'wasnt', 'sure', 'ive', 'taking', 'milligrams', 'times', 'recommended', 'amount', 'ive', 'fallen', 'asleep', 'lot', 'faster', 'also', 'feel', 'like', 'funny']\n"
          ],
          "name": "stdout"
        }
      ]
    },
    {
      "cell_type": "code",
      "metadata": {
        "colab": {
          "base_uri": "https://localhost:8080/"
        },
        "id": "Q0vLTMe-STWD",
        "outputId": "0a11544b-1d37-442f-dbc0-2c2d305edb72"
      },
      "source": [
        "len(meaningful_words)"
      ],
      "execution_count": null,
      "outputs": [
        {
          "output_type": "execute_result",
          "data": {
            "text/plain": [
              "149649"
            ]
          },
          "metadata": {
            "tags": []
          },
          "execution_count": 36
        }
      ]
    },
    {
      "cell_type": "code",
      "metadata": {
        "id": "R0cVdfm6SXSO"
      },
      "source": [
        "def remove_stopwords(input_text):\n",
        "    words = input_text.split()\n",
        "    clean_words = [word for word in words if word not in stopwords.words(\"english\")]\n",
        "    clean_words = \" \".join(clean_words)\n",
        "    return clean_words"
      ],
      "execution_count": null,
      "outputs": []
    },
    {
      "cell_type": "code",
      "metadata": {
        "id": "qHK7wf7bSocE"
      },
      "source": [
        "train_data[\"text\"] = train_data[\"text\"].apply(remove_stopwords)\n",
        "validation_data[\"text\"] = validation_data[\"text\"].apply(remove_stopwords)\n",
        "test_data[\"text\"] = test_data[\"text\"].apply(remove_stopwords)"
      ],
      "execution_count": null,
      "outputs": []
    },
    {
      "cell_type": "code",
      "metadata": {
        "colab": {
          "base_uri": "https://localhost:8080/",
          "height": 203
        },
        "id": "h9bEZqRKSqzb",
        "outputId": "ad9064c5-39f1-4049-8cd0-0378ef08da48"
      },
      "source": [
        "train_data.head()"
      ],
      "execution_count": null,
      "outputs": [
        {
          "output_type": "execute_result",
          "data": {
            "text/html": [
              "<div>\n",
              "<style scoped>\n",
              "    .dataframe tbody tr th:only-of-type {\n",
              "        vertical-align: middle;\n",
              "    }\n",
              "\n",
              "    .dataframe tbody tr th {\n",
              "        vertical-align: top;\n",
              "    }\n",
              "\n",
              "    .dataframe thead th {\n",
              "        text-align: right;\n",
              "    }\n",
              "</style>\n",
              "<table border=\"1\" class=\"dataframe\">\n",
              "  <thead>\n",
              "    <tr style=\"text-align: right;\">\n",
              "      <th></th>\n",
              "      <th>text</th>\n",
              "      <th>emotion</th>\n",
              "    </tr>\n",
              "  </thead>\n",
              "  <tbody>\n",
              "    <tr>\n",
              "      <th>0</th>\n",
              "      <td>didnt feel humiliated</td>\n",
              "      <td>4</td>\n",
              "    </tr>\n",
              "    <tr>\n",
              "      <th>1</th>\n",
              "      <td>go feeling hopeless damned hopeful around some...</td>\n",
              "      <td>4</td>\n",
              "    </tr>\n",
              "    <tr>\n",
              "      <th>2</th>\n",
              "      <td>im grabbing minute post feel greedy wrong</td>\n",
              "      <td>0</td>\n",
              "    </tr>\n",
              "    <tr>\n",
              "      <th>3</th>\n",
              "      <td>ever feeling nostalgic fireplace know still pr...</td>\n",
              "      <td>3</td>\n",
              "    </tr>\n",
              "    <tr>\n",
              "      <th>4</th>\n",
              "      <td>feeling grouchy</td>\n",
              "      <td>0</td>\n",
              "    </tr>\n",
              "  </tbody>\n",
              "</table>\n",
              "</div>"
            ],
            "text/plain": [
              "                                                text  emotion\n",
              "0                              didnt feel humiliated        4\n",
              "1  go feeling hopeless damned hopeful around some...        4\n",
              "2          im grabbing minute post feel greedy wrong        0\n",
              "3  ever feeling nostalgic fireplace know still pr...        3\n",
              "4                                    feeling grouchy        0"
            ]
          },
          "metadata": {
            "tags": []
          },
          "execution_count": 39
        }
      ]
    },
    {
      "cell_type": "code",
      "metadata": {
        "colab": {
          "base_uri": "https://localhost:8080/"
        },
        "id": "KoAQF0tES5T9",
        "outputId": "e8d25d28-a711-47fd-a3d9-e8ce101496d2"
      },
      "source": [
        "train_data.isna().sum(), validation_data.isna().sum(), test_data.isna().sum()"
      ],
      "execution_count": null,
      "outputs": [
        {
          "output_type": "execute_result",
          "data": {
            "text/plain": [
              "(text       0\n",
              " emotion    0\n",
              " dtype: int64, text       0\n",
              " emotion    0\n",
              " dtype: int64, text       0\n",
              " emotion    0\n",
              " dtype: int64)"
            ]
          },
          "metadata": {
            "tags": []
          },
          "execution_count": 40
        }
      ]
    },
    {
      "cell_type": "code",
      "metadata": {
        "colab": {
          "base_uri": "https://localhost:8080/"
        },
        "id": "QqDL-ICoS8zg",
        "outputId": "efedfb33-f569-4dd5-99f9-5065ba934b6e"
      },
      "source": [
        "print(pd.Series(train_data[\"text\"]).str.len().mean())\n",
        "print(pd.Series(train_data[\"text\"]).str.len().max())"
      ],
      "execution_count": null,
      "outputs": [
        {
          "output_type": "stream",
          "text": [
            "61.6723125\n",
            "232\n"
          ],
          "name": "stdout"
        }
      ]
    },
    {
      "cell_type": "code",
      "metadata": {
        "id": "bfBi51e3TDxc"
      },
      "source": [
        "strings_len = pd.Series(train_data[\"text\"]).str.len()"
      ],
      "execution_count": null,
      "outputs": []
    },
    {
      "cell_type": "code",
      "metadata": {
        "colab": {
          "base_uri": "https://localhost:8080/",
          "height": 281
        },
        "id": "WWEaUVroTJa8",
        "outputId": "d4c74768-5674-4870-b434-19652e0f6181"
      },
      "source": [
        "strings_len.plot.box()\n",
        "plt.title(\"Distribution of strings length\")\n",
        "plt.ylabel(\"Number of strings\")\n",
        "plt.show()"
      ],
      "execution_count": null,
      "outputs": [
        {
          "output_type": "display_data",
          "data": {
            "image/png": "[encoded data removed]",
            "text/plain": [
              "<Figure size 432x288 with 1 Axes>"
            ]
          },
          "metadata": {
            "tags": [],
            "needs_background": "light"
          }
        }
      ]
    },
    {
      "cell_type": "code",
      "metadata": {
        "colab": {
          "base_uri": "https://localhost:8080/"
        },
        "id": "sfA3yPPtTLNZ",
        "outputId": "c201dea5-d6ec-4fba-fc2f-cfc333f55487"
      },
      "source": [
        "strings_len.describe()"
      ],
      "execution_count": null,
      "outputs": [
        {
          "output_type": "execute_result",
          "data": {
            "text/plain": [
              "count    16000.000000\n",
              "mean        61.672312\n",
              "std         35.230294\n",
              "min          4.000000\n",
              "25%         35.000000\n",
              "50%         54.000000\n",
              "75%         81.000000\n",
              "max        232.000000\n",
              "Name: text, dtype: float64"
            ]
          },
          "metadata": {
            "tags": []
          },
          "execution_count": 44
        }
      ]
    },
    {
      "cell_type": "code",
      "metadata": {
        "id": "Pn_TymhkTRfx"
      },
      "source": [
        "def separate_features_and_labels(dataset):\n",
        "    features = dataset[\"text\"].to_numpy()\n",
        "    labels = dataset[\"emotion\"].to_numpy()\n",
        "    return (features, labels)"
      ],
      "execution_count": null,
      "outputs": []
    },
    {
      "cell_type": "code",
      "metadata": {
        "id": "y4gVbW4-Toc6"
      },
      "source": [
        "(train_features, train_labels) = separate_features_and_labels(train_data)\n",
        "(validation_features, validation_labels) = separate_features_and_labels(validation_data)\n",
        "(test_features, test_labels) = separate_features_and_labels(test_data)"
      ],
      "execution_count": null,
      "outputs": []
    },
    {
      "cell_type": "code",
      "metadata": {
        "colab": {
          "base_uri": "https://localhost:8080/"
        },
        "id": "qCc4x6vWTrLt",
        "outputId": "090d439f-ad56-473b-af04-b84bdc33f0d7"
      },
      "source": [
        "train_labels"
      ],
      "execution_count": null,
      "outputs": [
        {
          "output_type": "execute_result",
          "data": {
            "text/plain": [
              "array([4, 4, 0, ..., 2, 0, 4])"
            ]
          },
          "metadata": {
            "tags": []
          },
          "execution_count": 47
        }
      ]
    },
    {
      "cell_type": "code",
      "metadata": {
        "id": "Y2i6EJK6TtK0"
      },
      "source": [
        "VOCABULARY_SIZE = 16000\n",
        "EMBEDDING_DIM = 32\n",
        "MAX_LENGTH = 80\n",
        "PADDING_TYPE = \"post\"\n",
        "TRUNC_TYPE = \"post\""
      ],
      "execution_count": null,
      "outputs": []
    },
    {
      "cell_type": "code",
      "metadata": {
        "id": "yT05SOcUTvo0"
      },
      "source": [
        "tokenizer = Tokenizer(num_words = VOCABULARY_SIZE)"
      ],
      "execution_count": null,
      "outputs": []
    },
    {
      "cell_type": "code",
      "metadata": {
        "id": "sw6xCbW8T1En"
      },
      "source": [
        "tokenizer.fit_on_texts(train_features)"
      ],
      "execution_count": null,
      "outputs": []
    },
    {
      "cell_type": "code",
      "metadata": {
        "id": "C7VDFhhFT3F5"
      },
      "source": [
        "word_index = tokenizer.word_index"
      ],
      "execution_count": null,
      "outputs": []
    },
    {
      "cell_type": "code",
      "metadata": {
        "id": "iIFoPIHmT5Rm"
      },
      "source": [
        "train_sequences = tokenizer.texts_to_sequences(train_features)"
      ],
      "execution_count": null,
      "outputs": []
    },
    {
      "cell_type": "code",
      "metadata": {
        "colab": {
          "base_uri": "https://localhost:8080/"
        },
        "id": "I7ufdyelT7DQ",
        "outputId": "073f9078-daa7-45b1-d1c5-7feb23514761"
      },
      "source": [
        "for i in range (10):\n",
        "    print(train_sequences[i])"
      ],
      "execution_count": null,
      "outputs": [
        {
          "output_type": "stream",
          "text": [
            "[49, 1, 562]\n",
            "[31, 2, 380, 3354, 438, 44, 55, 1349, 1125]\n",
            "[4, 2918, 1023, 178, 1, 381, 326]\n",
            "[68, 2, 549, 4016, 6, 15, 3355]\n",
            "[2, 943]\n",
            "[16, 2, 9, 407, 210, 219, 62]\n",
            "[16, 220, 7255, 93, 7256, 767, 16, 2334, 1253, 63, 1747, 39, 1, 3, 343]\n",
            "[1, 327, 18, 1551, 642, 90, 160, 263]\n",
            "[5115, 112, 1, 5115, 5116, 47, 46, 916, 4017]\n",
            "[1, 550]\n"
          ],
          "name": "stdout"
        }
      ]
    },
    {
      "cell_type": "code",
      "metadata": {
        "colab": {
          "base_uri": "https://localhost:8080/"
        },
        "id": "rmAcFCsGT_WS",
        "outputId": "16e0ab01-ebf4-4715-d27d-d487ca98a050"
      },
      "source": [
        "np.array(train_sequences[153])"
      ],
      "execution_count": null,
      "outputs": [
        {
          "output_type": "execute_result",
          "data": {
            "text/plain": [
              "array([  35,    6,    2,  646,  121,  671,  646,  651, 7329, 1561, 2159,\n",
              "       4039, 1649, 4039,  646,    2,  805,    3, 4040, 1362, 3383,    4,\n",
              "        472])"
            ]
          },
          "metadata": {
            "tags": []
          },
          "execution_count": 54
        }
      ]
    },
    {
      "cell_type": "code",
      "metadata": {
        "id": "ORUpzLWOUB5j"
      },
      "source": [
        "train_padded = pad_sequences(train_sequences, maxlen = MAX_LENGTH, padding = PADDING_TYPE, truncating = TRUNC_TYPE)"
      ],
      "execution_count": null,
      "outputs": []
    },
    {
      "cell_type": "code",
      "metadata": {
        "colab": {
          "base_uri": "https://localhost:8080/"
        },
        "id": "NZKO_7j3UFaD",
        "outputId": "bbe213fd-8685-417c-9dea-36e82d980f18"
      },
      "source": [
        "train_padded[153]"
      ],
      "execution_count": null,
      "outputs": [
        {
          "output_type": "execute_result",
          "data": {
            "text/plain": [
              "array([  35,    6,    2,  646,  121,  671,  646,  651, 7329, 1561, 2159,\n",
              "       4039, 1649, 4039,  646,    2,  805,    3, 4040, 1362, 3383,    4,\n",
              "        472,    0,    0,    0,    0,    0,    0,    0,    0,    0,    0,\n",
              "          0,    0,    0,    0,    0,    0,    0,    0,    0,    0,    0,\n",
              "          0,    0,    0,    0,    0,    0,    0,    0,    0,    0,    0,\n",
              "          0,    0,    0,    0,    0,    0,    0,    0,    0,    0,    0,\n",
              "          0,    0,    0,    0,    0,    0,    0,    0,    0,    0,    0,\n",
              "          0,    0,    0], dtype=int32)"
            ]
          },
          "metadata": {
            "tags": []
          },
          "execution_count": 56
        }
      ]
    },
    {
      "cell_type": "code",
      "metadata": {
        "id": "z2WRZt0HUJCm"
      },
      "source": [
        "reverse_word_index = dict([(value, key) for (key, value) in word_index.items()])"
      ],
      "execution_count": null,
      "outputs": []
    },
    {
      "cell_type": "code",
      "metadata": {
        "id": "V4q_waI9UL43"
      },
      "source": [
        "def decode_sentence(text):\n",
        "    return \" \".join([reverse_word_index.get(i, \"?\") for i in text])"
      ],
      "execution_count": null,
      "outputs": []
    },
    {
      "cell_type": "code",
      "metadata": {
        "colab": {
          "base_uri": "https://localhost:8080/"
        },
        "id": "FxkE75qxUQD9",
        "outputId": "9ada077b-f346-4abc-d907-7d385631c5f6"
      },
      "source": [
        "print(decode_sentence(train_padded[153]))\n",
        "print(train_features[153])"
      ],
      "execution_count": null,
      "outputs": [
        {
          "output_type": "stream",
          "text": [
            "always know feeling artistic write name artistic mood manitz draw circle dot bigger dot artistic feeling line like accent mark spanish im pissed ? ? ? ? ? ? ? ? ? ? ? ? ? ? ? ? ? ? ? ? ? ? ? ? ? ? ? ? ? ? ? ? ? ? ? ? ? ? ? ? ? ? ? ? ? ? ? ? ? ? ? ? ? ? ? ? ?\n",
            "always know feeling artistic write name artistic mood manitz draw circle dot bigger dot artistic feeling line like accent mark spanish im pissed\n"
          ],
          "name": "stdout"
        }
      ]
    },
    {
      "cell_type": "code",
      "metadata": {
        "id": "d58q0u5FUTzG"
      },
      "source": [
        "validation_sequences = tokenizer.texts_to_sequences(validation_features)\n",
        "test_sequences = tokenizer.texts_to_sequences(test_features)"
      ],
      "execution_count": null,
      "outputs": []
    },
    {
      "cell_type": "code",
      "metadata": {
        "id": "yvrIG_esVA_B"
      },
      "source": [
        "validation_padded = pad_sequences(validation_sequences, maxlen = MAX_LENGTH, padding = PADDING_TYPE, truncating = TRUNC_TYPE)\n",
        "test_padded = pad_sequences(test_sequences, maxlen = MAX_LENGTH, padding = PADDING_TYPE, truncating = TRUNC_TYPE)"
      ],
      "execution_count": null,
      "outputs": []
    },
    {
      "cell_type": "code",
      "metadata": {
        "id": "uao1MS5-VC-i"
      },
      "source": [
        "OUTPUT_SHAPE = len(set(train_labels))"
      ],
      "execution_count": null,
      "outputs": []
    },
    {
      "cell_type": "code",
      "metadata": {
        "id": "3RG4PG9hVFC5"
      },
      "source": [
        "tf.keras.backend.clear_session()"
      ],
      "execution_count": null,
      "outputs": []
    },
    {
      "cell_type": "code",
      "metadata": {
        "id": "FhjxFwJ4VHZE"
      },
      "source": [
        "model = Sequential([\n",
        "        Embedding(VOCABULARY_SIZE, EMBEDDING_DIM, input_length = MAX_LENGTH),\n",
        "        Dropout(0.2),\n",
        "        Conv1D(filters = 256, kernel_size = 3, activation = \"relu\"),\n",
        "        MaxPooling1D(pool_size = 3),\n",
        "        Conv1D(filters = 128, kernel_size = 3, activation = \"relu\"),\n",
        "        MaxPooling1D(pool_size = 3),\n",
        "        LSTM(128),\n",
        "        Dense(128, activation = \"relu\"),\n",
        "        Dropout(0.2),\n",
        "        Dense(64, activation = \"relu\"),\n",
        "        Dense(OUTPUT_SHAPE, activation = \"softmax\")\n",
        "])"
      ],
      "execution_count": null,
      "outputs": []
    },
    {
      "cell_type": "code",
      "metadata": {
        "colab": {
          "base_uri": "https://localhost:8080/"
        },
        "id": "mV0XRSaJVNzJ",
        "outputId": "fa070060-27b4-45a0-ee5f-1fe4868a8401"
      },
      "source": [
        "model.summary()"
      ],
      "execution_count": null,
      "outputs": [
        {
          "output_type": "stream",
          "text": [
            "Model: \"sequential\"\n",
            "_________________________________________________________________\n",
            "Layer (type)                 Output Shape              Param #   \n",
            "=================================================================\n",
            "embedding (Embedding)        (None, 80, 32)            512000    \n",
            "_________________________________________________________________\n",
            "dropout (Dropout)            (None, 80, 32)            0         \n",
            "_________________________________________________________________\n",
            "conv1d (Conv1D)              (None, 78, 256)           24832     \n",
            "_________________________________________________________________\n",
            "max_pooling1d (MaxPooling1D) (None, 26, 256)           0         \n",
            "_________________________________________________________________\n",
            "conv1d_1 (Conv1D)            (None, 24, 128)           98432     \n",
            "_________________________________________________________________\n",
            "max_pooling1d_1 (MaxPooling1 (None, 8, 128)            0         \n",
            "_________________________________________________________________\n",
            "lstm (LSTM)                  (None, 128)               131584    \n",
            "_________________________________________________________________\n",
            "dense (Dense)                (None, 128)               16512     \n",
            "_________________________________________________________________\n",
            "dropout_1 (Dropout)          (None, 128)               0         \n",
            "_________________________________________________________________\n",
            "dense_1 (Dense)              (None, 64)                8256      \n",
            "_________________________________________________________________\n",
            "dense_2 (Dense)              (None, 6)                 390       \n",
            "=================================================================\n",
            "Total params: 792,006\n",
            "Trainable params: 792,006\n",
            "Non-trainable params: 0\n",
            "_________________________________________________________________\n"
          ],
          "name": "stdout"
        }
      ]
    },
    {
      "cell_type": "code",
      "metadata": {
        "colab": {
          "base_uri": "https://localhost:8080/",
          "height": 295
        },
        "id": "6WO9JaTMVQbb",
        "outputId": "f11c43ca-6557-48d9-81fe-60db81c976a4"
      },
      "source": [
        "plt.hist(model.layers[2].get_weights()[0].ravel())\n",
        "plt.xlabel(\"weights of Conv1D layer\")\n",
        "plt.ylabel(\"count\")\n",
        "plt.title(\"Distribution of weights in Conv1D before training\")\n",
        "plt.show()"
      ],
      "execution_count": null,
      "outputs": [
        {
          "output_type": "display_data",
          "data": {
            "image/png": "[encoded data removed]",
            "text/plain": [
              "<Figure size 432x288 with 1 Axes>"
            ]
          },
          "metadata": {
            "tags": [],
            "needs_background": "light"
          }
        }
      ]
    },
    {
      "cell_type": "code",
      "metadata": {
        "id": "F65KwXbWVTnF"
      },
      "source": [
        "OPTIMIZER = tf.keras.optimizers.Adam(learning_rate = 0.0001)"
      ],
      "execution_count": null,
      "outputs": []
    },
    {
      "cell_type": "code",
      "metadata": {
        "id": "LcLJBBqdVb3F"
      },
      "source": [
        "model.compile(loss = \"sparse_categorical_crossentropy\",\n",
        "              optimizer = OPTIMIZER,\n",
        "              metrics = [\"accuracy\"])"
      ],
      "execution_count": null,
      "outputs": []
    },
    {
      "cell_type": "code",
      "metadata": {
        "colab": {
          "base_uri": "https://localhost:8080/"
        },
        "id": "bKpmSZwIVed6",
        "outputId": "d62c3b7e-07fd-4152-9495-392af2f3560e"
      },
      "source": [
        "history = model.fit(train_padded, train_labels,\n",
        "                    epochs = 150,\n",
        "                    validation_data = (validation_padded, validation_labels),\n",
        "                    batch_size = 64)"
      ],
      "execution_count": null,
      "outputs": [
        {
          "output_type": "stream",
          "text": [
            "Epoch 1/150\n",
            "250/250 [==============================] - 37s 12ms/step - loss: 1.6139 - accuracy: 0.3318 - val_loss: 1.5842 - val_accuracy: 0.3520\n",
            "Epoch 2/150\n",
            "250/250 [==============================] - 3s 11ms/step - loss: 1.5817 - accuracy: 0.3296 - val_loss: 1.5961 - val_accuracy: 0.3520\n",
            "Epoch 3/150\n",
            "250/250 [==============================] - 3s 11ms/step - loss: 1.5796 - accuracy: 0.3311 - val_loss: 1.5926 - val_accuracy: 0.3520\n",
            "Epoch 4/150\n",
            "250/250 [==============================] - 3s 11ms/step - loss: 1.5458 - accuracy: 0.3337 - val_loss: 1.3768 - val_accuracy: 0.3930\n",
            "Epoch 5/150\n",
            "250/250 [==============================] - 3s 10ms/step - loss: 1.1599 - accuracy: 0.4516 - val_loss: 1.0920 - val_accuracy: 0.5265\n",
            "Epoch 6/150\n",
            "250/250 [==============================] - 3s 11ms/step - loss: 0.9681 - accuracy: 0.5871 - val_loss: 0.9812 - val_accuracy: 0.6090\n",
            "Epoch 7/150\n",
            "250/250 [==============================] - 3s 11ms/step - loss: 0.8584 - accuracy: 0.6603 - val_loss: 0.9146 - val_accuracy: 0.6485\n",
            "Epoch 8/150\n",
            "250/250 [==============================] - 3s 11ms/step - loss: 0.7649 - accuracy: 0.7112 - val_loss: 0.8400 - val_accuracy: 0.6925\n",
            "Epoch 9/150\n",
            "250/250 [==============================] - 3s 11ms/step - loss: 0.6747 - accuracy: 0.7637 - val_loss: 0.7819 - val_accuracy: 0.7355\n",
            "Epoch 10/150\n",
            "250/250 [==============================] - 3s 10ms/step - loss: 0.6127 - accuracy: 0.7924 - val_loss: 0.7749 - val_accuracy: 0.7355\n",
            "Epoch 11/150\n",
            "250/250 [==============================] - 3s 11ms/step - loss: 0.5652 - accuracy: 0.8106 - val_loss: 0.7291 - val_accuracy: 0.7570\n",
            "Epoch 12/150\n",
            "250/250 [==============================] - 3s 11ms/step - loss: 0.5297 - accuracy: 0.8245 - val_loss: 0.7277 - val_accuracy: 0.7610\n",
            "Epoch 13/150\n",
            "250/250 [==============================] - 3s 10ms/step - loss: 0.5011 - accuracy: 0.8372 - val_loss: 0.6810 - val_accuracy: 0.7810\n",
            "Epoch 14/150\n",
            "250/250 [==============================] - 3s 11ms/step - loss: 0.4701 - accuracy: 0.8476 - val_loss: 0.6929 - val_accuracy: 0.7770\n",
            "Epoch 15/150\n",
            "250/250 [==============================] - 3s 11ms/step - loss: 0.4500 - accuracy: 0.8551 - val_loss: 0.6640 - val_accuracy: 0.7925\n",
            "Epoch 16/150\n",
            "250/250 [==============================] - 3s 11ms/step - loss: 0.4321 - accuracy: 0.8631 - val_loss: 0.7256 - val_accuracy: 0.7585\n",
            "Epoch 17/150\n",
            "250/250 [==============================] - 3s 10ms/step - loss: 0.4193 - accuracy: 0.8691 - val_loss: 0.7245 - val_accuracy: 0.7625\n",
            "Epoch 18/150\n",
            "250/250 [==============================] - 3s 11ms/step - loss: 0.4005 - accuracy: 0.8754 - val_loss: 0.6832 - val_accuracy: 0.7895\n",
            "Epoch 19/150\n",
            "250/250 [==============================] - 3s 11ms/step - loss: 0.3877 - accuracy: 0.8775 - val_loss: 0.6612 - val_accuracy: 0.7960\n",
            "Epoch 20/150\n",
            "250/250 [==============================] - 3s 11ms/step - loss: 0.3692 - accuracy: 0.8844 - val_loss: 0.6831 - val_accuracy: 0.7910\n",
            "Epoch 21/150\n",
            "250/250 [==============================] - 3s 11ms/step - loss: 0.3583 - accuracy: 0.8898 - val_loss: 0.6687 - val_accuracy: 0.7890\n",
            "Epoch 22/150\n",
            "250/250 [==============================] - 3s 11ms/step - loss: 0.3491 - accuracy: 0.8904 - val_loss: 0.6451 - val_accuracy: 0.8065\n",
            "Epoch 23/150\n",
            "250/250 [==============================] - 3s 11ms/step - loss: 0.3373 - accuracy: 0.8971 - val_loss: 0.6647 - val_accuracy: 0.7980\n",
            "Epoch 24/150\n",
            "250/250 [==============================] - 3s 11ms/step - loss: 0.3347 - accuracy: 0.8979 - val_loss: 0.6585 - val_accuracy: 0.7980\n",
            "Epoch 25/150\n",
            "250/250 [==============================] - 3s 11ms/step - loss: 0.3140 - accuracy: 0.9046 - val_loss: 0.6754 - val_accuracy: 0.7940\n",
            "Epoch 26/150\n",
            "250/250 [==============================] - 3s 10ms/step - loss: 0.3053 - accuracy: 0.9071 - val_loss: 0.6715 - val_accuracy: 0.7940\n",
            "Epoch 27/150\n",
            "250/250 [==============================] - 3s 11ms/step - loss: 0.3056 - accuracy: 0.9065 - val_loss: 0.7022 - val_accuracy: 0.7790\n",
            "Epoch 28/150\n",
            "250/250 [==============================] - 3s 11ms/step - loss: 0.3005 - accuracy: 0.9097 - val_loss: 0.6296 - val_accuracy: 0.8130\n",
            "Epoch 29/150\n",
            "250/250 [==============================] - 3s 11ms/step - loss: 0.2850 - accuracy: 0.9143 - val_loss: 0.6872 - val_accuracy: 0.7830\n",
            "Epoch 30/150\n",
            "250/250 [==============================] - 3s 11ms/step - loss: 0.2755 - accuracy: 0.9175 - val_loss: 0.6694 - val_accuracy: 0.7920\n",
            "Epoch 31/150\n",
            "250/250 [==============================] - 3s 11ms/step - loss: 0.2720 - accuracy: 0.9192 - val_loss: 0.6763 - val_accuracy: 0.7830\n",
            "Epoch 32/150\n",
            "250/250 [==============================] - 3s 11ms/step - loss: 0.2651 - accuracy: 0.9216 - val_loss: 0.6368 - val_accuracy: 0.8095\n",
            "Epoch 33/150\n",
            "250/250 [==============================] - 3s 11ms/step - loss: 0.2639 - accuracy: 0.9198 - val_loss: 0.6589 - val_accuracy: 0.7975\n",
            "Epoch 34/150\n",
            "250/250 [==============================] - 3s 11ms/step - loss: 0.2547 - accuracy: 0.9227 - val_loss: 0.6384 - val_accuracy: 0.7990\n",
            "Epoch 35/150\n",
            "250/250 [==============================] - 3s 11ms/step - loss: 0.2427 - accuracy: 0.9288 - val_loss: 0.6912 - val_accuracy: 0.7775\n",
            "Epoch 36/150\n",
            "250/250 [==============================] - 3s 11ms/step - loss: 0.2383 - accuracy: 0.9289 - val_loss: 0.6102 - val_accuracy: 0.8140\n",
            "Epoch 37/150\n",
            "250/250 [==============================] - 3s 11ms/step - loss: 0.2318 - accuracy: 0.9317 - val_loss: 0.6237 - val_accuracy: 0.8135\n",
            "Epoch 38/150\n",
            "250/250 [==============================] - 3s 11ms/step - loss: 0.2255 - accuracy: 0.9329 - val_loss: 0.6271 - val_accuracy: 0.8090\n",
            "Epoch 39/150\n",
            "250/250 [==============================] - 3s 10ms/step - loss: 0.2168 - accuracy: 0.9353 - val_loss: 0.6596 - val_accuracy: 0.7940\n",
            "Epoch 40/150\n",
            "250/250 [==============================] - 3s 11ms/step - loss: 0.2131 - accuracy: 0.9327 - val_loss: 0.6119 - val_accuracy: 0.8110\n",
            "Epoch 41/150\n",
            "250/250 [==============================] - 3s 11ms/step - loss: 0.2082 - accuracy: 0.9378 - val_loss: 0.6172 - val_accuracy: 0.8070\n",
            "Epoch 42/150\n",
            "250/250 [==============================] - 3s 11ms/step - loss: 0.2082 - accuracy: 0.9369 - val_loss: 0.6051 - val_accuracy: 0.8095\n",
            "Epoch 43/150\n",
            "250/250 [==============================] - 3s 11ms/step - loss: 0.1953 - accuracy: 0.9392 - val_loss: 0.6545 - val_accuracy: 0.7970\n",
            "Epoch 44/150\n",
            "250/250 [==============================] - 3s 11ms/step - loss: 0.1884 - accuracy: 0.9424 - val_loss: 0.7136 - val_accuracy: 0.7745\n",
            "Epoch 45/150\n",
            "250/250 [==============================] - 3s 11ms/step - loss: 0.1848 - accuracy: 0.9427 - val_loss: 0.6281 - val_accuracy: 0.8065\n",
            "Epoch 46/150\n",
            "250/250 [==============================] - 3s 11ms/step - loss: 0.1761 - accuracy: 0.9452 - val_loss: 0.5893 - val_accuracy: 0.8220\n",
            "Epoch 47/150\n",
            "250/250 [==============================] - 3s 11ms/step - loss: 0.1757 - accuracy: 0.9454 - val_loss: 0.6611 - val_accuracy: 0.8005\n",
            "Epoch 48/150\n",
            "250/250 [==============================] - 3s 10ms/step - loss: 0.1708 - accuracy: 0.9448 - val_loss: 0.6053 - val_accuracy: 0.8190\n",
            "Epoch 49/150\n",
            "250/250 [==============================] - 3s 11ms/step - loss: 0.1649 - accuracy: 0.9467 - val_loss: 0.6000 - val_accuracy: 0.8155\n",
            "Epoch 50/150\n",
            "250/250 [==============================] - 3s 11ms/step - loss: 0.1571 - accuracy: 0.9509 - val_loss: 0.6627 - val_accuracy: 0.7950\n",
            "Epoch 51/150\n",
            "250/250 [==============================] - 3s 11ms/step - loss: 0.1514 - accuracy: 0.9520 - val_loss: 0.6587 - val_accuracy: 0.8080\n",
            "Epoch 52/150\n",
            "250/250 [==============================] - 3s 11ms/step - loss: 0.1441 - accuracy: 0.9541 - val_loss: 0.7737 - val_accuracy: 0.7670\n",
            "Epoch 53/150\n",
            "250/250 [==============================] - 3s 10ms/step - loss: 0.1447 - accuracy: 0.9537 - val_loss: 0.6381 - val_accuracy: 0.8160\n",
            "Epoch 54/150\n",
            "250/250 [==============================] - 3s 10ms/step - loss: 0.1382 - accuracy: 0.9564 - val_loss: 0.7627 - val_accuracy: 0.7775\n",
            "Epoch 55/150\n",
            "250/250 [==============================] - 3s 11ms/step - loss: 0.1345 - accuracy: 0.9576 - val_loss: 0.6690 - val_accuracy: 0.8115\n",
            "Epoch 56/150\n",
            "250/250 [==============================] - 3s 10ms/step - loss: 0.1329 - accuracy: 0.9552 - val_loss: 0.6806 - val_accuracy: 0.8085\n",
            "Epoch 57/150\n",
            "250/250 [==============================] - 3s 10ms/step - loss: 0.1291 - accuracy: 0.9581 - val_loss: 0.6181 - val_accuracy: 0.8225\n",
            "Epoch 58/150\n",
            "250/250 [==============================] - 3s 10ms/step - loss: 0.1231 - accuracy: 0.9591 - val_loss: 0.6625 - val_accuracy: 0.8165\n",
            "Epoch 59/150\n",
            "250/250 [==============================] - 3s 10ms/step - loss: 0.1215 - accuracy: 0.9619 - val_loss: 0.6652 - val_accuracy: 0.8205\n",
            "Epoch 60/150\n",
            "250/250 [==============================] - 3s 10ms/step - loss: 0.1206 - accuracy: 0.9604 - val_loss: 0.7043 - val_accuracy: 0.8150\n",
            "Epoch 61/150\n",
            "250/250 [==============================] - 3s 10ms/step - loss: 0.1098 - accuracy: 0.9632 - val_loss: 0.6337 - val_accuracy: 0.8305\n",
            "Epoch 62/150\n",
            "250/250 [==============================] - 3s 11ms/step - loss: 0.1114 - accuracy: 0.9628 - val_loss: 0.6547 - val_accuracy: 0.8330\n",
            "Epoch 63/150\n",
            "250/250 [==============================] - 3s 11ms/step - loss: 0.1075 - accuracy: 0.9648 - val_loss: 0.6422 - val_accuracy: 0.8370\n",
            "Epoch 64/150\n",
            "250/250 [==============================] - 3s 11ms/step - loss: 0.1109 - accuracy: 0.9646 - val_loss: 0.7131 - val_accuracy: 0.8115\n",
            "Epoch 65/150\n",
            "250/250 [==============================] - 3s 10ms/step - loss: 0.1071 - accuracy: 0.9639 - val_loss: 0.6785 - val_accuracy: 0.8295\n",
            "Epoch 66/150\n",
            "250/250 [==============================] - 3s 10ms/step - loss: 0.1022 - accuracy: 0.9642 - val_loss: 0.6634 - val_accuracy: 0.8365\n",
            "Epoch 67/150\n",
            "250/250 [==============================] - 3s 11ms/step - loss: 0.1046 - accuracy: 0.9649 - val_loss: 0.6940 - val_accuracy: 0.8250\n",
            "Epoch 68/150\n",
            "250/250 [==============================] - 3s 11ms/step - loss: 0.1036 - accuracy: 0.9653 - val_loss: 0.7011 - val_accuracy: 0.8335\n",
            "Epoch 69/150\n",
            "250/250 [==============================] - 3s 11ms/step - loss: 0.0936 - accuracy: 0.9693 - val_loss: 0.7687 - val_accuracy: 0.8255\n",
            "Epoch 70/150\n",
            "250/250 [==============================] - 3s 11ms/step - loss: 0.0938 - accuracy: 0.9681 - val_loss: 0.7030 - val_accuracy: 0.8370\n",
            "Epoch 71/150\n",
            "250/250 [==============================] - 3s 11ms/step - loss: 0.0906 - accuracy: 0.9711 - val_loss: 0.7565 - val_accuracy: 0.8240\n",
            "Epoch 72/150\n",
            "250/250 [==============================] - 3s 11ms/step - loss: 0.0902 - accuracy: 0.9704 - val_loss: 0.7075 - val_accuracy: 0.8395\n",
            "Epoch 73/150\n",
            "250/250 [==============================] - 3s 11ms/step - loss: 0.0918 - accuracy: 0.9700 - val_loss: 0.7607 - val_accuracy: 0.8185\n",
            "Epoch 74/150\n",
            "250/250 [==============================] - 3s 11ms/step - loss: 0.0819 - accuracy: 0.9715 - val_loss: 0.8109 - val_accuracy: 0.8235\n",
            "Epoch 75/150\n",
            "250/250 [==============================] - 3s 11ms/step - loss: 0.0838 - accuracy: 0.9720 - val_loss: 0.6749 - val_accuracy: 0.8430\n",
            "Epoch 76/150\n",
            "250/250 [==============================] - 3s 11ms/step - loss: 0.0825 - accuracy: 0.9729 - val_loss: 0.6892 - val_accuracy: 0.8440\n",
            "Epoch 77/150\n",
            "250/250 [==============================] - 3s 11ms/step - loss: 0.0795 - accuracy: 0.9737 - val_loss: 0.7034 - val_accuracy: 0.8435\n",
            "Epoch 78/150\n",
            "250/250 [==============================] - 3s 11ms/step - loss: 0.0771 - accuracy: 0.9733 - val_loss: 0.6973 - val_accuracy: 0.8490\n",
            "Epoch 79/150\n",
            "250/250 [==============================] - 3s 11ms/step - loss: 0.0765 - accuracy: 0.9748 - val_loss: 0.8518 - val_accuracy: 0.8150\n",
            "Epoch 80/150\n",
            "250/250 [==============================] - 3s 10ms/step - loss: 0.0732 - accuracy: 0.9754 - val_loss: 0.6854 - val_accuracy: 0.8365\n",
            "Epoch 81/150\n",
            "250/250 [==============================] - 3s 10ms/step - loss: 0.0700 - accuracy: 0.9756 - val_loss: 0.7078 - val_accuracy: 0.8380\n",
            "Epoch 82/150\n",
            "250/250 [==============================] - 3s 11ms/step - loss: 0.0756 - accuracy: 0.9742 - val_loss: 0.6772 - val_accuracy: 0.8395\n",
            "Epoch 83/150\n",
            "250/250 [==============================] - 3s 11ms/step - loss: 0.0656 - accuracy: 0.9783 - val_loss: 0.6888 - val_accuracy: 0.8460\n",
            "Epoch 84/150\n",
            "250/250 [==============================] - 3s 10ms/step - loss: 0.0683 - accuracy: 0.9776 - val_loss: 0.7183 - val_accuracy: 0.8360\n",
            "Epoch 85/150\n",
            "250/250 [==============================] - 3s 10ms/step - loss: 0.0678 - accuracy: 0.9764 - val_loss: 0.8013 - val_accuracy: 0.8155\n",
            "Epoch 86/150\n",
            "250/250 [==============================] - 3s 11ms/step - loss: 0.0690 - accuracy: 0.9758 - val_loss: 0.7173 - val_accuracy: 0.8460\n",
            "Epoch 87/150\n",
            "250/250 [==============================] - 3s 11ms/step - loss: 0.0670 - accuracy: 0.9767 - val_loss: 0.7572 - val_accuracy: 0.8410\n",
            "Epoch 88/150\n",
            "250/250 [==============================] - 3s 10ms/step - loss: 0.0607 - accuracy: 0.9789 - val_loss: 0.7941 - val_accuracy: 0.8290\n",
            "Epoch 89/150\n",
            "250/250 [==============================] - 3s 11ms/step - loss: 0.0651 - accuracy: 0.9778 - val_loss: 0.7340 - val_accuracy: 0.8425\n",
            "Epoch 90/150\n",
            "250/250 [==============================] - 3s 11ms/step - loss: 0.0620 - accuracy: 0.9784 - val_loss: 0.7064 - val_accuracy: 0.8485\n",
            "Epoch 91/150\n",
            "250/250 [==============================] - 3s 11ms/step - loss: 0.0612 - accuracy: 0.9783 - val_loss: 0.7177 - val_accuracy: 0.8485\n",
            "Epoch 92/150\n",
            "250/250 [==============================] - 3s 11ms/step - loss: 0.0578 - accuracy: 0.9800 - val_loss: 0.7114 - val_accuracy: 0.8520\n",
            "Epoch 93/150\n",
            "250/250 [==============================] - 3s 11ms/step - loss: 0.0554 - accuracy: 0.9809 - val_loss: 0.6878 - val_accuracy: 0.8500\n",
            "Epoch 94/150\n",
            "250/250 [==============================] - 3s 11ms/step - loss: 0.0557 - accuracy: 0.9799 - val_loss: 0.7000 - val_accuracy: 0.8525\n",
            "Epoch 95/150\n",
            "250/250 [==============================] - 3s 11ms/step - loss: 0.0513 - accuracy: 0.9820 - val_loss: 0.7130 - val_accuracy: 0.8495\n",
            "Epoch 96/150\n",
            "250/250 [==============================] - 3s 11ms/step - loss: 0.0510 - accuracy: 0.9816 - val_loss: 0.7704 - val_accuracy: 0.8445\n",
            "Epoch 97/150\n",
            "250/250 [==============================] - 3s 11ms/step - loss: 0.0521 - accuracy: 0.9814 - val_loss: 0.7612 - val_accuracy: 0.8455\n",
            "Epoch 98/150\n",
            "250/250 [==============================] - 3s 11ms/step - loss: 0.0546 - accuracy: 0.9801 - val_loss: 0.7477 - val_accuracy: 0.8515\n",
            "Epoch 99/150\n",
            "250/250 [==============================] - 3s 11ms/step - loss: 0.0481 - accuracy: 0.9835 - val_loss: 0.7682 - val_accuracy: 0.8525\n",
            "Epoch 100/150\n",
            "250/250 [==============================] - 3s 11ms/step - loss: 0.0478 - accuracy: 0.9832 - val_loss: 0.7538 - val_accuracy: 0.8465\n",
            "Epoch 101/150\n",
            "250/250 [==============================] - 3s 11ms/step - loss: 0.0445 - accuracy: 0.9843 - val_loss: 0.7522 - val_accuracy: 0.8480\n",
            "Epoch 102/150\n",
            "250/250 [==============================] - 3s 11ms/step - loss: 0.0456 - accuracy: 0.9833 - val_loss: 0.8220 - val_accuracy: 0.8445\n",
            "Epoch 103/150\n",
            "250/250 [==============================] - 3s 11ms/step - loss: 0.0463 - accuracy: 0.9836 - val_loss: 0.7301 - val_accuracy: 0.8545\n",
            "Epoch 104/150\n",
            "250/250 [==============================] - 3s 11ms/step - loss: 0.0443 - accuracy: 0.9844 - val_loss: 0.7378 - val_accuracy: 0.8535\n",
            "Epoch 105/150\n",
            "250/250 [==============================] - 3s 11ms/step - loss: 0.0412 - accuracy: 0.9853 - val_loss: 0.7603 - val_accuracy: 0.8460\n",
            "Epoch 106/150\n",
            "250/250 [==============================] - 3s 11ms/step - loss: 0.0434 - accuracy: 0.9842 - val_loss: 0.8401 - val_accuracy: 0.8365\n",
            "Epoch 107/150\n",
            "250/250 [==============================] - 3s 11ms/step - loss: 0.0430 - accuracy: 0.9837 - val_loss: 0.8008 - val_accuracy: 0.8500\n",
            "Epoch 108/150\n",
            "250/250 [==============================] - 3s 11ms/step - loss: 0.0423 - accuracy: 0.9853 - val_loss: 0.7721 - val_accuracy: 0.8555\n",
            "Epoch 109/150\n",
            "250/250 [==============================] - 3s 11ms/step - loss: 0.0404 - accuracy: 0.9859 - val_loss: 0.7689 - val_accuracy: 0.8545\n",
            "Epoch 110/150\n",
            "250/250 [==============================] - 3s 11ms/step - loss: 0.0438 - accuracy: 0.9846 - val_loss: 0.8615 - val_accuracy: 0.8340\n",
            "Epoch 111/150\n",
            "250/250 [==============================] - 3s 11ms/step - loss: 0.0413 - accuracy: 0.9853 - val_loss: 0.7573 - val_accuracy: 0.8495\n",
            "Epoch 112/150\n",
            "250/250 [==============================] - 3s 11ms/step - loss: 0.0407 - accuracy: 0.9853 - val_loss: 0.7515 - val_accuracy: 0.8535\n",
            "Epoch 113/150\n",
            "250/250 [==============================] - 3s 11ms/step - loss: 0.0389 - accuracy: 0.9863 - val_loss: 0.7749 - val_accuracy: 0.8530\n",
            "Epoch 114/150\n",
            "250/250 [==============================] - 3s 11ms/step - loss: 0.0366 - accuracy: 0.9869 - val_loss: 0.8056 - val_accuracy: 0.8535\n",
            "Epoch 115/150\n",
            "250/250 [==============================] - 3s 11ms/step - loss: 0.0383 - accuracy: 0.9864 - val_loss: 0.8383 - val_accuracy: 0.8490\n",
            "Epoch 116/150\n",
            "250/250 [==============================] - 3s 11ms/step - loss: 0.0348 - accuracy: 0.9871 - val_loss: 0.8092 - val_accuracy: 0.8550\n",
            "Epoch 117/150\n",
            "250/250 [==============================] - 3s 11ms/step - loss: 0.0330 - accuracy: 0.9881 - val_loss: 0.7674 - val_accuracy: 0.8565\n",
            "Epoch 118/150\n",
            "250/250 [==============================] - 3s 11ms/step - loss: 0.0368 - accuracy: 0.9866 - val_loss: 0.8126 - val_accuracy: 0.8435\n",
            "Epoch 119/150\n",
            "250/250 [==============================] - 3s 11ms/step - loss: 0.0372 - accuracy: 0.9857 - val_loss: 0.7890 - val_accuracy: 0.8470\n",
            "Epoch 120/150\n",
            "250/250 [==============================] - 3s 11ms/step - loss: 0.0364 - accuracy: 0.9873 - val_loss: 0.8151 - val_accuracy: 0.8550\n",
            "Epoch 121/150\n",
            "250/250 [==============================] - 3s 11ms/step - loss: 0.0364 - accuracy: 0.9880 - val_loss: 0.7534 - val_accuracy: 0.8610\n",
            "Epoch 122/150\n",
            "250/250 [==============================] - 3s 11ms/step - loss: 0.0329 - accuracy: 0.9868 - val_loss: 0.8305 - val_accuracy: 0.8555\n",
            "Epoch 123/150\n",
            "250/250 [==============================] - 3s 11ms/step - loss: 0.0307 - accuracy: 0.9894 - val_loss: 0.8052 - val_accuracy: 0.8565\n",
            "Epoch 124/150\n",
            "250/250 [==============================] - 3s 11ms/step - loss: 0.0339 - accuracy: 0.9882 - val_loss: 0.7819 - val_accuracy: 0.8520\n",
            "Epoch 125/150\n",
            "250/250 [==============================] - 3s 11ms/step - loss: 0.0304 - accuracy: 0.9888 - val_loss: 0.8193 - val_accuracy: 0.8640\n",
            "Epoch 126/150\n",
            "250/250 [==============================] - 3s 11ms/step - loss: 0.0309 - accuracy: 0.9881 - val_loss: 0.8091 - val_accuracy: 0.8545\n",
            "Epoch 127/150\n",
            "250/250 [==============================] - 3s 11ms/step - loss: 0.0356 - accuracy: 0.9875 - val_loss: 0.7992 - val_accuracy: 0.8590\n",
            "Epoch 128/150\n",
            "250/250 [==============================] - 3s 11ms/step - loss: 0.0304 - accuracy: 0.9903 - val_loss: 0.8534 - val_accuracy: 0.8520\n",
            "Epoch 129/150\n",
            "250/250 [==============================] - 3s 11ms/step - loss: 0.0304 - accuracy: 0.9899 - val_loss: 0.8078 - val_accuracy: 0.8560\n",
            "Epoch 130/150\n",
            "250/250 [==============================] - 3s 11ms/step - loss: 0.0332 - accuracy: 0.9877 - val_loss: 0.7986 - val_accuracy: 0.8575\n",
            "Epoch 131/150\n",
            "250/250 [==============================] - 3s 11ms/step - loss: 0.0323 - accuracy: 0.9887 - val_loss: 0.8656 - val_accuracy: 0.8570\n",
            "Epoch 132/150\n",
            "250/250 [==============================] - 3s 11ms/step - loss: 0.0291 - accuracy: 0.9901 - val_loss: 0.8396 - val_accuracy: 0.8585\n",
            "Epoch 133/150\n",
            "250/250 [==============================] - 3s 11ms/step - loss: 0.0308 - accuracy: 0.9889 - val_loss: 0.8339 - val_accuracy: 0.8610\n",
            "Epoch 134/150\n",
            "250/250 [==============================] - 3s 11ms/step - loss: 0.0269 - accuracy: 0.9908 - val_loss: 0.8191 - val_accuracy: 0.8575\n",
            "Epoch 135/150\n",
            "250/250 [==============================] - 3s 11ms/step - loss: 0.0292 - accuracy: 0.9903 - val_loss: 0.9002 - val_accuracy: 0.8460\n",
            "Epoch 136/150\n",
            "250/250 [==============================] - 3s 11ms/step - loss: 0.0286 - accuracy: 0.9896 - val_loss: 0.8716 - val_accuracy: 0.8570\n",
            "Epoch 137/150\n",
            "250/250 [==============================] - 3s 11ms/step - loss: 0.0266 - accuracy: 0.9900 - val_loss: 0.8285 - val_accuracy: 0.8590\n",
            "Epoch 138/150\n",
            "250/250 [==============================] - 3s 11ms/step - loss: 0.0246 - accuracy: 0.9916 - val_loss: 0.8810 - val_accuracy: 0.8525\n",
            "Epoch 139/150\n",
            "250/250 [==============================] - 3s 11ms/step - loss: 0.0284 - accuracy: 0.9911 - val_loss: 0.8681 - val_accuracy: 0.8540\n",
            "Epoch 140/150\n",
            "250/250 [==============================] - 3s 11ms/step - loss: 0.0278 - accuracy: 0.9905 - val_loss: 0.8140 - val_accuracy: 0.8615\n",
            "Epoch 141/150\n",
            "250/250 [==============================] - 3s 11ms/step - loss: 0.0271 - accuracy: 0.9906 - val_loss: 0.9260 - val_accuracy: 0.8455\n",
            "Epoch 142/150\n",
            "250/250 [==============================] - 3s 11ms/step - loss: 0.0271 - accuracy: 0.9898 - val_loss: 0.8240 - val_accuracy: 0.8620\n",
            "Epoch 143/150\n",
            "250/250 [==============================] - 3s 11ms/step - loss: 0.0230 - accuracy: 0.9923 - val_loss: 0.8386 - val_accuracy: 0.8620\n",
            "Epoch 144/150\n",
            "250/250 [==============================] - 3s 11ms/step - loss: 0.0226 - accuracy: 0.9920 - val_loss: 0.8752 - val_accuracy: 0.8560\n",
            "Epoch 145/150\n",
            "250/250 [==============================] - 3s 11ms/step - loss: 0.0256 - accuracy: 0.9905 - val_loss: 0.8086 - val_accuracy: 0.8580\n",
            "Epoch 146/150\n",
            "250/250 [==============================] - 3s 11ms/step - loss: 0.0245 - accuracy: 0.9911 - val_loss: 0.8688 - val_accuracy: 0.8590\n",
            "Epoch 147/150\n",
            "250/250 [==============================] - 3s 11ms/step - loss: 0.0267 - accuracy: 0.9912 - val_loss: 0.8949 - val_accuracy: 0.8530\n",
            "Epoch 148/150\n",
            "250/250 [==============================] - 3s 11ms/step - loss: 0.0247 - accuracy: 0.9914 - val_loss: 0.8690 - val_accuracy: 0.8590\n",
            "Epoch 149/150\n",
            "250/250 [==============================] - 3s 11ms/step - loss: 0.0253 - accuracy: 0.9911 - val_loss: 0.8665 - val_accuracy: 0.8585\n",
            "Epoch 150/150\n",
            "250/250 [==============================] - 3s 11ms/step - loss: 0.0259 - accuracy: 0.9914 - val_loss: 0.8054 - val_accuracy: 0.8670\n"
          ],
          "name": "stdout"
        }
      ]
    },
    {
      "cell_type": "code",
      "metadata": {
        "colab": {
          "base_uri": "https://localhost:8080/",
          "height": 279
        },
        "id": "mJFGAjCaVjo_",
        "outputId": "54baeaed-51f6-4c8c-8a16-c617a72a035d"
      },
      "source": [
        "plt.plot(history.history[\"loss\"])\n",
        "plt.plot(history.history['val_'+\"loss\"])\n",
        "plt.xlabel(\"Epochs\")\n",
        "plt.ylabel(\"loss\")\n",
        "plt.legend([\"loss\" ,'val_loss'])\n",
        "plt.show()"
      ],
      "execution_count": null,
      "outputs": [
        {
          "output_type": "display_data",
          "data": {
            "image/png": "[encoded data removed]",
            "text/plain": [
              "<Figure size 432x288 with 1 Axes>"
            ]
          },
          "metadata": {
            "tags": [],
            "needs_background": "light"
          }
        }
      ]
    },
    {
      "cell_type": "code",
      "metadata": {
        "colab": {
          "base_uri": "https://localhost:8080/",
          "height": 279
        },
        "id": "IrTozmxrhA-f",
        "outputId": "c246285e-dfc0-4f5c-8f12-ea42a2443c22"
      },
      "source": [
        "plt.plot(history.history[\"accuracy\"])\n",
        "plt.plot(history.history['val_'+\"accuracy\"])\n",
        "plt.xlabel(\"Epochs\")\n",
        "plt.ylabel(\"accuracy\")\n",
        "plt.legend([\"accuracy\" ,'val_accuracy'])\n",
        "plt.show()"
      ],
      "execution_count": null,
      "outputs": [
        {
          "output_type": "display_data",
          "data": {
            "image/png": "[encoded data removed]",
            "text/plain": [
              "<Figure size 432x288 with 1 Axes>"
            ]
          },
          "metadata": {
            "tags": [],
            "needs_background": "light"
          }
        }
      ]
    },
    {
      "cell_type": "code",
      "metadata": {
        "colab": {
          "base_uri": "https://localhost:8080/",
          "height": 295
        },
        "id": "5DFTFJSyhZhP",
        "outputId": "23517a2b-df9a-413a-db50-7d7f888b2b6f"
      },
      "source": [
        "plt.hist(model.layers[2].get_weights()[0].ravel())\n",
        "plt.xlabel(\"weights of Conv1D layer\")\n",
        "plt.ylabel(\"count\")\n",
        "plt.title(\"Distribution of weights in Conv1D after training\")\n",
        "plt.show()"
      ],
      "execution_count": null,
      "outputs": [
        {
          "output_type": "display_data",
          "data": {
            "image/png": "[encoded data removed]",
            "text/plain": [
              "<Figure size 432x288 with 1 Axes>"
            ]
          },
          "metadata": {
            "tags": [],
            "needs_background": "light"
          }
        }
      ]
    },
    {
      "cell_type": "code",
      "metadata": {
        "colab": {
          "base_uri": "https://localhost:8080/",
          "height": 295
        },
        "id": "7QNNjOONheWP",
        "outputId": "8b99eee3-4b3a-40e2-ee42-e5073ea00639"
      },
      "source": [
        "plt.hist(model.layers[2].get_weights()[1].ravel())\n",
        "plt.xlabel(\"bias of Conv1D layer\")\n",
        "plt.ylabel(\"count\")\n",
        "plt.title(\"Distribution of bias in Conv1D after training\")\n",
        "plt.show()"
      ],
      "execution_count": null,
      "outputs": [
        {
          "output_type": "display_data",
          "data": {
            "image/png": "[encoded data removed]",
            "text/plain": [
              "<Figure size 432x288 with 1 Axes>"
            ]
          },
          "metadata": {
            "tags": [],
            "needs_background": "light"
          }
        }
      ]
    },
    {
      "cell_type": "code",
      "metadata": {
        "colab": {
          "base_uri": "https://localhost:8080/"
        },
        "id": "ReDfNflVhhCy",
        "outputId": "12b03bb3-c33c-443a-a7df-a07a17a1ac11"
      },
      "source": [
        "loss, accuracy = model.evaluate(test_padded, test_labels)"
      ],
      "execution_count": null,
      "outputs": [
        {
          "output_type": "stream",
          "text": [
            "63/63 [==============================] - 0s 3ms/step - loss: 0.7871 - accuracy: 0.8630\n"
          ],
          "name": "stdout"
        }
      ]
    },
    {
      "cell_type": "code",
      "metadata": {
        "colab": {
          "base_uri": "https://localhost:8080/"
        },
        "id": "EKyy4BQHhklI",
        "outputId": "5aee68bb-dc20-4b9d-a4da-e1bc50a9f271"
      },
      "source": [
        "print(f\"Model accuracy is {accuracy * 100}%\")"
      ],
      "execution_count": null,
      "outputs": [
        {
          "output_type": "stream",
          "text": [
            "Model accuracy is 86.2999975681305%\n"
          ],
          "name": "stdout"
        }
      ]
    },
    {
      "cell_type": "code",
      "metadata": {
        "id": "BK0XTf4rhm3D"
      },
      "source": [
        "predicted_proba = np.argmax(model.predict(test_padded), axis =-1)"
      ],
      "execution_count": null,
      "outputs": []
    },
    {
      "cell_type": "code",
      "metadata": {
        "colab": {
          "base_uri": "https://localhost:8080/"
        },
        "id": "_EMaqVSyhrdr",
        "outputId": "61bd7ef8-4fb7-44b0-c960-cb200ed93b44"
      },
      "source": [
        "predicted_proba"
      ],
      "execution_count": null,
      "outputs": [
        {
          "output_type": "execute_result",
          "data": {
            "text/plain": [
              "array([4, 4, 4, ..., 2, 2, 5])"
            ]
          },
          "metadata": {
            "tags": []
          },
          "execution_count": 77
        }
      ]
    },
    {
      "cell_type": "code",
      "metadata": {
        "colab": {
          "base_uri": "https://localhost:8080/"
        },
        "id": "HxN6kl_vhtR2",
        "outputId": "b8e978ef-3ebf-41f4-e024-2262daa8ea55"
      },
      "source": [
        "test_labels"
      ],
      "execution_count": null,
      "outputs": [
        {
          "output_type": "execute_result",
          "data": {
            "text/plain": [
              "array([4, 4, 4, ..., 2, 2, 1])"
            ]
          },
          "metadata": {
            "tags": []
          },
          "execution_count": 78
        }
      ]
    },
    {
      "cell_type": "code",
      "metadata": {
        "id": "DRKwxsmDhvh8"
      },
      "source": [
        "confusion_matrix = tf.math.confusion_matrix(test_labels, predicted_proba).numpy()"
      ],
      "execution_count": null,
      "outputs": []
    },
    {
      "cell_type": "code",
      "metadata": {
        "colab": {
          "base_uri": "https://localhost:8080/",
          "height": 399
        },
        "id": "uPaiyu5Qhy6s",
        "outputId": "27fc6155-abf4-4426-cbf2-bc9598c5c5be"
      },
      "source": [
        "figure = plt.figure(figsize = (6, 5))\n",
        "sns.heatmap(confusion_matrix, annot = True, fmt = \".0f\", cmap = plt.cm.Blues)\n",
        "plt.tight_layout()\n",
        "plt.ylabel(\"Actual class\")\n",
        "plt.xlabel(\"Predicted class\")\n",
        "plt.title(\"Confusion Matrix of classified emotions\")\n",
        "plt.show()"
      ],
      "execution_count": null,
      "outputs": [
        {
          "output_type": "display_data",
          "data": {
            "image/png": "[encoded data removed]",
            "text/plain": [
              "<Figure size 432x360 with 2 Axes>"
            ]
          },
          "metadata": {
            "tags": [],
            "needs_background": "light"
          }
        }
      ]
    },
    {
      "cell_type": "code",
      "metadata": {
        "id": "7wVOga6NiE3_"
      },
      "source": [
        "def predict(text):\n",
        "  words = text.split()\n",
        "  clean_words = [word for word in words if word not in stopwords.words(\"english\")]\n",
        "  text = \" \".join(clean_words)\n",
        "  tokenizer = Tokenizer(num_words = VOCABULARY_SIZE)\n",
        "  tokenizer.fit_on_texts(text) \n",
        "  word_index = tokenizer.word_index\n",
        "  text_sequences = tokenizer.texts_to_sequences(text)\n",
        "  text_padded = pad_sequences(text_sequences, maxlen = MAX_LENGTH, padding = PADDING_TYPE, truncating = TRUNC_TYPE)\n",
        "  print(model.predict(text_padded))\n",
        "  #predicted_proba = np.argmax(model.predict(text_padded), axis =-1)\n",
        "  return predicted_proba"
      ],
      "execution_count": null,
      "outputs": []
    },
    {
      "cell_type": "code",
      "metadata": {
        "colab": {
          "base_uri": "https://localhost:8080/"
        },
        "id": "MVSaL6gph0w5",
        "outputId": "20bee74c-4baa-4a44-9c3f-491a5a115bfd"
      },
      "source": [
        "text = input(\"Write a sentence:\")\n",
        "print(\"Prediction:\", predict(text))"
      ],
      "execution_count": null,
      "outputs": [
        {
          "output_type": "stream",
          "text": [
            "Write a sentence:cry\n",
            "[[8.0641061e-03 2.6541777e-04 2.6084241e-01 2.6876032e-01 4.3193248e-04\n",
            "  4.6163577e-01]\n",
            " [1.3541530e-02 7.5829803e-04 2.4480174e-01 1.7823355e-01 8.3376834e-04\n",
            "  5.6183112e-01]\n",
            " [1.3420248e-01 6.2552668e-02 1.0691899e-01 3.5927627e-02 1.2702956e-02\n",
            "  6.4769524e-01]]\n",
            "Prediction: [4 4 4 ... 2 2 5]\n"
          ],
          "name": "stdout"
        }
      ]
    },
    {
      "cell_type": "code",
      "metadata": {
        "id": "z2StQlpCpSWu"
      },
      "source": [
        ""
      ],
      "execution_count": null,
      "outputs": []
    }
  ]
}